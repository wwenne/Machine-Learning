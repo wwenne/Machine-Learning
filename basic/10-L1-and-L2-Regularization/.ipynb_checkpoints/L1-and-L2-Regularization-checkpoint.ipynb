{
 "cells": [
  {
   "cell_type": "code",
   "execution_count": null,
   "id": "03276110",
   "metadata": {},
   "outputs": [],
   "source": [
    "import numpy as np\n",
    "import pandas as pd\n",
    "import warnings\n",
    "warnings.filterwarnings(\"ignore\")\n",
    "\n",
    "df = pd.read_csv(\"Melbourne_housing_FULL.csv\")\n",
    "\n",
    "# select some cols to make more sense for our purpose\n",
    "cols_to_use = ['Suburb', 'Address', 'Rooms', 'Type', 'Method', 'SellerG',\n",
    "               'Distance', 'Bedroom2', 'Bathroom', 'Car',\n",
    "               'Landsize', 'BuildingArea', 'Price']\n",
    "df_ = df[cols_to_use]\n",
    "df_.isna().sum()\n",
    "\n",
    "df_[[\"Bedroom2\",\"Bathroom\",\"Car\"]] = \\\n",
    "    df_[[\"Bedroom2\",\"Bathroom\",\"Car\"]].fillna(0)\n",
    "df_[\"Landsize\"] = df_[\"Landsize\"].fillna(df_[\"Landsize\"].mean())\n",
    "df_[\"BuildingArea\"] = df_[\"BuildingArea\"].fillna(df_[\"BuildingArea\"].mean())\n",
    "df_ = df_.dropna()\n",
    "df_ = pd.get_dummies(df_,drop_first = True,dtype = int)\n",
    "\n",
    "x = df_.drop(columns = [\"Price\"])\n",
    "y = df_[\"Price\"]\n",
    "from sklearn.model_selection import train_test_split\n",
    "x_train,x_test,y_train,y_test = \\\n",
    "    train_test_split(x,y,test_size = 0.3,random_state = 2023)"
   ]
  },
  {
   "cell_type": "code",
   "execution_count": null,
   "id": "7f4d7e89",
   "metadata": {},
   "outputs": [],
   "source": [
    "# DO Linear Regression\n",
    "from sklearn.linear_model import LinearRegression\n",
    "lr = LinearRegression()\n",
    "lr.fit(x_train,y_train)\n",
    "lr_score_test = lr.score(x_test,y_test)\n",
    "lr_score_train = lr.score(x_train,y_train)\n",
    "print(f\"The score of Linear Regression on test set is {lr_score_test}.\")\n",
    "print(f\"The score of Linear Regression on test set is {lr_score_train}.\")"
   ]
  },
  {
   "cell_type": "code",
   "execution_count": null,
   "id": "311ede35",
   "metadata": {},
   "outputs": [],
   "source": [
    "# DO Regularization (Lasso)\n",
    "from sklearn.linear_model import Lasso\n",
    "lasso_reg = Lasso(alpha = 50,max_iter = 100,tol = 0.1)\n",
    "lasso_reg.fit(x_train,y_train)\n",
    "lasso_score_test = lasso_reg.score(x_test,y_test)\n",
    "lasso_score_train = lasso_reg.score(x_train,y_train)\n",
    "print(f\"The score of Lasso on test set is {lasso_score_test}.\")\n",
    "print(f\"The score of Lasso on test set is {lasso_score_train}.\")"
   ]
  },
  {
   "cell_type": "code",
   "execution_count": null,
   "id": "eefffe27",
   "metadata": {},
   "outputs": [],
   "source": []
  }
 ],
 "metadata": {
  "kernelspec": {
   "display_name": "Python 3 (ipykernel)",
   "language": "python",
   "name": "python3"
  },
  "language_info": {
   "codemirror_mode": {
    "name": "ipython",
    "version": 3
   },
   "file_extension": ".py",
   "mimetype": "text/x-python",
   "name": "python",
   "nbconvert_exporter": "python",
   "pygments_lexer": "ipython3",
   "version": "3.11.3"
  }
 },
 "nbformat": 4,
 "nbformat_minor": 5
}
