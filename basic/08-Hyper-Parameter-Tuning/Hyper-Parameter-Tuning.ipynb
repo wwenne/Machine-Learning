{
 "cells": [
  {
   "cell_type": "code",
   "execution_count": 19,
   "id": "e68d8d9c",
   "metadata": {},
   "outputs": [
    {
     "data": {
      "text/html": [
       "<div>\n",
       "<style scoped>\n",
       "    .dataframe tbody tr th:only-of-type {\n",
       "        vertical-align: middle;\n",
       "    }\n",
       "\n",
       "    .dataframe tbody tr th {\n",
       "        vertical-align: top;\n",
       "    }\n",
       "\n",
       "    .dataframe thead th {\n",
       "        text-align: right;\n",
       "    }\n",
       "</style>\n",
       "<table border=\"1\" class=\"dataframe\">\n",
       "  <thead>\n",
       "    <tr style=\"text-align: right;\">\n",
       "      <th></th>\n",
       "      <th>model</th>\n",
       "      <th>best_score</th>\n",
       "      <th>best_params</th>\n",
       "    </tr>\n",
       "  </thead>\n",
       "  <tbody>\n",
       "    <tr>\n",
       "      <th>0</th>\n",
       "      <td>logistic regression</td>\n",
       "      <td>0.966609</td>\n",
       "      <td>{'C': 1}</td>\n",
       "    </tr>\n",
       "    <tr>\n",
       "      <th>1</th>\n",
       "      <td>decision tree</td>\n",
       "      <td>0.868474</td>\n",
       "      <td>{'criterion': 'entropy'}</td>\n",
       "    </tr>\n",
       "    <tr>\n",
       "      <th>2</th>\n",
       "      <td>svm</td>\n",
       "      <td>0.978431</td>\n",
       "      <td>{'C': 1, 'kernel': 'linear'}</td>\n",
       "    </tr>\n",
       "    <tr>\n",
       "      <th>3</th>\n",
       "      <td>random forest</td>\n",
       "      <td>0.938753</td>\n",
       "      <td>{'n_estimators': 10}</td>\n",
       "    </tr>\n",
       "  </tbody>\n",
       "</table>\n",
       "</div>"
      ],
      "text/plain": [
       "                 model  best_score                   best_params\n",
       "0  logistic regression    0.966609                      {'C': 1}\n",
       "1        decision tree    0.868474      {'criterion': 'entropy'}\n",
       "2                  svm    0.978431  {'C': 1, 'kernel': 'linear'}\n",
       "3        random forest    0.938753          {'n_estimators': 10}"
      ]
     },
     "execution_count": 19,
     "metadata": {},
     "output_type": "execute_result"
    }
   ],
   "source": [
    "import pandas as pd\n",
    "import warnings\n",
    "warnings.filterwarnings(\"ignore\")\n",
    "\n",
    "from sklearn.datasets import load_digits\n",
    "digits = load_digits()\n",
    "# digits\n",
    "\n",
    "x = digits.data\n",
    "y = digits.target\n",
    "from sklearn.model_selection import train_test_split\n",
    "x_train,x_test,y_train,y_test = train_test_split(x,y,test_size = 0.2)\n",
    "\n",
    "from sklearn.linear_model import LogisticRegression\n",
    "from sklearn.tree import DecisionTreeClassifier\n",
    "from sklearn.svm import SVC\n",
    "from sklearn.ensemble import RandomForestClassifier\n",
    "\n",
    "model_params = {\n",
    "    \"logistic regression\":{\"model\":LogisticRegression(),\n",
    "          \"params\":{\"C\":[1,5,10]}},\n",
    "    \"decision tree\":{\"model\":DecisionTreeClassifier(),\n",
    "           \"params\":{\"criterion\":[\"gini\",\"entropy\"]}},\n",
    "    \"svm\":{\"model\":SVC(gamma = \"auto\"),\n",
    "           \"params\":{\"C\":[1,10,20],\"kernel\":[\"rbf\",\"linear\"]}},\n",
    "    \"random forest\":{\"model\":RandomForestClassifier(),\n",
    "           \"params\":{\"n_estimators\":[1,5,10]}}\n",
    "}\n",
    "\n",
    "from sklearn.model_selection import GridSearchCV\n",
    "clf = GridSearchCV(SVC(gamma = \"auto\"),\n",
    "                   {\"C\":[1,10,20],\"kernel\":[\"rbf\",\"linear\"]},\n",
    "                   cv = 5,return_train_score = False)\n",
    "clf.fit(x_train,y_train)\n",
    "clf.cv_results_\n",
    "# clf.best_score_\n",
    "# clf.best_params_\n",
    "\n",
    "scores = []\n",
    "for key,value in model_params.items():\n",
    "    clf = GridSearchCV(value[\"model\"],value[\"params\"],\n",
    "                       cv = 5,return_train_score = False)\n",
    "    clf.fit(x_train,y_train)\n",
    "    scores.append({\"model\":key,\n",
    "                   \"best_score\":clf.best_score_,\n",
    "                   \"best_params\":clf.best_params_})\n",
    "df = pd.DataFrame(scores)\n",
    "df"
   ]
  },
  {
   "cell_type": "markdown",
   "id": "0615c828",
   "metadata": {},
   "source": [
    "- For me, the winner is Support Vector Machine(SVM) and the parameters are C=1, kernel=linear with 97.84% score."
   ]
  }
 ],
 "metadata": {
  "kernelspec": {
   "display_name": "Python 3 (ipykernel)",
   "language": "python",
   "name": "python3"
  },
  "language_info": {
   "codemirror_mode": {
    "name": "ipython",
    "version": 3
   },
   "file_extension": ".py",
   "mimetype": "text/x-python",
   "name": "python",
   "nbconvert_exporter": "python",
   "pygments_lexer": "ipython3",
   "version": "3.11.3"
  }
 },
 "nbformat": 4,
 "nbformat_minor": 5
}
