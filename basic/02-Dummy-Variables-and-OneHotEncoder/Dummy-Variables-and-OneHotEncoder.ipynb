{
 "cells": [
  {
   "cell_type": "code",
   "execution_count": 4,
   "id": "b3e4f752",
   "metadata": {},
   "outputs": [
    {
     "name": "stdout",
     "output_type": "stream",
     "text": [
      "The price of a mercedez benz that is 4 yr old with mileage 45000 is 36991.32.\n",
      "The price of a mercedez benz that is 4 yr old with mileage 45000 is 11080.74.\n",
      "The score of the model is 0.9417\n"
     ]
    }
   ],
   "source": [
    "import pandas as pd\n",
    "from sklearn.linear_model import LinearRegression\n",
    "import warnings\n",
    "warnings.filterwarnings(\"ignore\")\n",
    "\n",
    "df = pd.read_csv(\"carprices.csv\")\n",
    "dummies = pd.get_dummies(df[\"Car Model\"],dtype = int)\n",
    "dummies = dummies.drop(columns = \"Audi A5\")\n",
    "df1 = pd.concat([df,dummies],axis = 1)\n",
    "df1 = df1.drop(columns = \"Car Model\")\n",
    "\n",
    "reg = LinearRegression()\n",
    "x = df1.drop(columns = \"Sell Price($)\")\n",
    "y = df1[\"Sell Price($)\"]\n",
    "reg.fit(x,y)\n",
    "\n",
    "# predict price of a mercedez benz that is 4 yr old with mileage 45000\n",
    "y_hat_1 = reg.predict([[45000,4,0,1]])\n",
    "print(f\"The price of a mercedez benz that is 4 yr old with mileage 45000 is {round(y_hat_1[0],2)}.\")\n",
    "# predict price of a BMW X5 that is 7 yr old with mileage 86000\n",
    "y_hat_2 = reg.predict([[86000,7,1,0]])\n",
    "print(f\"The price of a mercedez benz that is 4 yr old with mileage 45000 is {round(y_hat_2[0],2)}.\")\n",
    "\n",
    "# test the accuracy of the model\n",
    "score = reg.score(x,y)\n",
    "print(f\"The score of the model is {round(score,4)}\")"
   ]
  },
  {
   "cell_type": "code",
   "execution_count": null,
   "id": "7fa272b5",
   "metadata": {},
   "outputs": [],
   "source": [
    "# # Other ways to transform categorial variables into integer number\n",
    "\n",
    "# from sklearn.preprocessing import LabelEncoder\n",
    "# le = LabelEncoder()\n",
    "# le.fit_transform(df)\n",
    "\n",
    "# form sklearn.precessing import OneHotEncoder\n",
    "# ohe = OneHotEncoder()\n",
    "# ohe.fit_transform(df)\n"
   ]
  }
 ],
 "metadata": {
  "kernelspec": {
   "display_name": "Python 3 (ipykernel)",
   "language": "python",
   "name": "python3"
  },
  "language_info": {
   "codemirror_mode": {
    "name": "ipython",
    "version": 3
   },
   "file_extension": ".py",
   "mimetype": "text/x-python",
   "name": "python",
   "nbconvert_exporter": "python",
   "pygments_lexer": "ipython3",
   "version": "3.11.3"
  }
 },
 "nbformat": 4,
 "nbformat_minor": 5
}
