{
 "cells": [
  {
   "cell_type": "code",
   "execution_count": 1,
   "id": "818d76ca",
   "metadata": {},
   "outputs": [
    {
     "name": "stdout",
     "output_type": "stream",
     "text": [
      "The score of GaussianNB is 0.9444\n",
      "The score of MultinomialNB is 0.3056\n"
     ]
    },
    {
     "data": {
      "text/plain": [
       "0.9444444444444444"
      ]
     },
     "execution_count": 1,
     "metadata": {},
     "output_type": "execute_result"
    }
   ],
   "source": [
    "# Naive Bayes Classifier Algorithm makes a naive assumption that features are independent to each other.\n",
    "\n",
    "import pandas as pd\n",
    "import numpy as np\n",
    "import warnings\n",
    "warnings.filterwarnings(\"ignore\")\n",
    "\n",
    "from sklearn.datasets import load_wine\n",
    "wine = load_wine()\n",
    "df = pd.DataFrame(wine.data,columns = wine.feature_names)\n",
    "df[\"target\"] = wine.target\n",
    "# df.describe()\n",
    "\n",
    "x = df.drop(columns = \"target\")\n",
    "y = df.target\n",
    "\n",
    "from sklearn.preprocessing import StandardScaler\n",
    "scaler = StandardScaler()\n",
    "x_scaled = scaler.fit_transform(x)\n",
    "\n",
    "from sklearn.model_selection import train_test_split\n",
    "x_train,x_test,y_train,y_test = train_test_split(x_scaled,y,test_size = 0.2)\n",
    "\n",
    "from sklearn.naive_bayes import GaussianNB,MultinomialNB\n",
    "model_1 = GaussianNB()\n",
    "model_1.fit(x_train,y_train)\n",
    "score_Gaussian = model_1.score(x_test,y_test)\n",
    "print(f\"The score of GaussianNB is {round(score_Gaussian,4)}\")\n",
    "\n",
    "model_2 = MultinomialNB()\n",
    "model_2.fit(abs(x_train),y_train)\n",
    "score_Multinomial = model_2.score(x_test,y_test)\n",
    "print(f\"The score of MultinomialNB is {round(score_Multinomial,4)}\")\n",
    "\n",
    "\n",
    "# Use Pipeline to automatically pass data between each step\n",
    "from sklearn.pipeline import Pipeline\n",
    "pipe = Pipeline([\n",
    "    (\"scaler\",StandardScaler()),(\"GaussianNB\",GaussianNB())\n",
    "])\n",
    "pipe.fit(x_train,y_train).score(x_test,y_test)"
   ]
  }
 ],
 "metadata": {
  "kernelspec": {
   "display_name": "Python 3 (ipykernel)",
   "language": "python",
   "name": "python3"
  },
  "language_info": {
   "codemirror_mode": {
    "name": "ipython",
    "version": 3
   },
   "file_extension": ".py",
   "mimetype": "text/x-python",
   "name": "python",
   "nbconvert_exporter": "python",
   "pygments_lexer": "ipython3",
   "version": "3.11.3"
  }
 },
 "nbformat": 4,
 "nbformat_minor": 5
}
