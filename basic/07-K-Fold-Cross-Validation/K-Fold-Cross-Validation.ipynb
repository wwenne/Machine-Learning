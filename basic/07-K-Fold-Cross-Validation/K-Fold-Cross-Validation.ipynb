{
 "cells": [
  {
   "cell_type": "code",
   "execution_count": 2,
   "id": "a04a71d5",
   "metadata": {},
   "outputs": [
    {
     "name": "stdout",
     "output_type": "stream",
     "text": [
      "[0.592559907163533, 0.5425525700249691, 0.5411495709180241]\n",
      "[0.989983305509182, 0.989983305509182, 0.9833055091819699]\n",
      "[0.9699499165275459, 0.9766277128547579, 0.9666110183639399]\n"
     ]
    }
   ],
   "source": [
    "import pandas as pd\n",
    "from sklearn.datasets import load_digits\n",
    "import warnings\n",
    "warnings.filterwarnings(\"ignore\")\n",
    "from sklearn.model_selection import train_test_split\n",
    "\n",
    "digits = load_digits()\n",
    "df = pd.DataFrame(digits.data,columns = digits.feature_names)\n",
    "df[\"target\"] = digits.target\n",
    "\n",
    "x = df.drop(columns = \"target\",axis = 1)\n",
    "y = df[\"target\"]\n",
    "\n",
    "from sklearn.linear_model import LinearRegression\n",
    "from sklearn.svm import SVC\n",
    "from sklearn.ensemble import RandomForestClassifier\n",
    "\n",
    "def get_score_func(model,x_train,x_test,y_train,y_test):\n",
    "    reg = model\n",
    "    reg.fit(x_train,y_train)\n",
    "    return reg.score(x_test,y_test)\n",
    "\n",
    "score_lr = []\n",
    "score_svm = []\n",
    "score_rf = []\n",
    "\n",
    "from sklearn.model_selection import KFold\n",
    "kf = KFold(n_splits = 3,random_state = 1206,shuffle = True)\n",
    "for train_index,test_index in kf.split(digits.data):\n",
    "    x_train,x_test,y_train,y_test = \\\n",
    "        digits.data[train_index],digits.data[test_index],digits.target[train_index],digits.target[test_index]\n",
    "    score_lr.append(get_score_func(LinearRegression(),x_train,x_test,y_train,y_test))\n",
    "    score_svm.append(get_score_func(SVC(),x_train,x_test,y_train,y_test))\n",
    "    score_rf.append(get_score_func(RandomForestClassifier(),x_train,x_test,y_train,y_test))\n",
    "print(score_lr)\n",
    "print(score_svm)\n",
    "print(score_rf)"
   ]
  },
  {
   "cell_type": "code",
   "execution_count": 4,
   "id": "7a6606f2",
   "metadata": {},
   "outputs": [
    {
     "name": "stdout",
     "output_type": "stream",
     "text": [
      "[0.592559907163533, 0.5425525700249691, 0.5411495709180241, 0.5509164429011628, 0.5714456068477223, 0.55641674791555]\n",
      "[0.989983305509182, 0.989983305509182, 0.9833055091819699, 0.986644407345576, 0.986644407345576, 0.9849749582637729]\n",
      "[0.9699499165275459, 0.9766277128547579, 0.9666110183639399, 0.9716193656093489, 0.9732888146911519, 0.9816360601001669]\n"
     ]
    }
   ],
   "source": [
    "from sklearn.model_selection import StratifiedKFold\n",
    "skf = StratifiedKFold(n_splits = 3,shuffle = True,random_state = 10)\n",
    "for train_index,test_index in skf.split(digits.data,digits.target):\n",
    "    x_train,x_test,y_train,y_test = \\\n",
    "        digits.data[train_index],digits.data[test_index],digits.target[train_index],digits.target[test_index]\n",
    "    score_lr.append(get_score_func(LinearRegression(),x_train,x_test,y_train,y_test))\n",
    "    score_svm.append(get_score_func(SVC(),x_train,x_test,y_train,y_test))\n",
    "    score_rf.append(get_score_func(RandomForestClassifier(),x_train,x_test,y_train,y_test))\n",
    "print(score_lr)\n",
    "print(score_svm)\n",
    "print(score_rf)"
   ]
  },
  {
   "cell_type": "code",
   "execution_count": 10,
   "id": "3e8787bb",
   "metadata": {},
   "outputs": [
    {
     "name": "stdout",
     "output_type": "stream",
     "text": [
      "[3.72198601 3.89527711 3.50093108]\n",
      "[0.095      0.16541353 0.75438596]\n",
      "[1.055      0.60902256 1.32581454]\n"
     ]
    }
   ],
   "source": [
    "from sklearn.model_selection import cross_val_score\n",
    "lr_score = (-1)*cross_val_score(LinearRegression(),x_train,y_train,\n",
    "                           cv = kf,scoring = \"neg_mean_squared_error\")\n",
    "print(lr_score)\n",
    "svm_score = (-1)*cross_val_score(SVC(),x_train,y_train,\n",
    "                           cv = kf,scoring = \"neg_mean_squared_error\")\n",
    "print(svm_score)\n",
    "rdc_score = (-1)*cross_val_score(RandomForestClassifier(),x_train,y_train,\n",
    "                           cv = kf,scoring = \"neg_mean_squared_error\")\n",
    "print(rdc_score)"
   ]
  },
  {
   "cell_type": "code",
   "execution_count": 18,
   "id": "bedfa82b",
   "metadata": {},
   "outputs": [
    {
     "name": "stdout",
     "output_type": "stream",
     "text": [
      "LR: 3.612053 (0.375607) 3.225317 3.638802\n",
      "SVC: 0.343824 (0.352901) 0.101002 0.370618\n",
      "RFC: 0.585343 (0.405001) 0.000000 0.293823\n"
     ]
    }
   ],
   "source": [
    "from sklearn.metrics import mean_squared_error\n",
    "\n",
    "num_folds = 10\n",
    "seed = 1005\n",
    "scoring = \"neg_mean_squared_error\"\n",
    "models = []\n",
    "models.append((\"LR\",LinearRegression()))\n",
    "models.append((\"SVC\",SVC()))\n",
    "models.append((\"RFC\",RandomForestClassifier()))\n",
    "names = []\n",
    "kfold_results = []\n",
    "train_results = []\n",
    "test_results = []\n",
    "for name,model in models:\n",
    "    names.append(name)\n",
    "    kfold = KFold(n_splits = num_folds,random_state = seed,shuffle = True)\n",
    "    cv_results = (-1)*cross_val_score(model,x_train,y_train,\n",
    "                                      cv = kfold,scoring = scoring)\n",
    "    kfold_results.append(cv_results)\n",
    "    res = model.fit(x_train,y_train)\n",
    "    train_result = mean_squared_error(res.predict(x_train),y_train)\n",
    "    train_results.append(train_result)\n",
    "    \n",
    "    test_result = mean_squared_error(res.predict(x_test),y_test)\n",
    "    test_results.append(test_result)\n",
    "    message = \"%s: %f (%f) %f %f\" % (name,cv_results.mean(),\n",
    "                                     cv_results.std(),\n",
    "                                     train_result,test_result)\n",
    "    print(message)"
   ]
  },
  {
   "cell_type": "code",
   "execution_count": null,
   "id": "721539a9",
   "metadata": {},
   "outputs": [],
   "source": []
  }
 ],
 "metadata": {
  "kernelspec": {
   "display_name": "Python 3 (ipykernel)",
   "language": "python",
   "name": "python3"
  },
  "language_info": {
   "codemirror_mode": {
    "name": "ipython",
    "version": 3
   },
   "file_extension": ".py",
   "mimetype": "text/x-python",
   "name": "python",
   "nbconvert_exporter": "python",
   "pygments_lexer": "ipython3",
   "version": "3.11.3"
  }
 },
 "nbformat": 4,
 "nbformat_minor": 5
}
