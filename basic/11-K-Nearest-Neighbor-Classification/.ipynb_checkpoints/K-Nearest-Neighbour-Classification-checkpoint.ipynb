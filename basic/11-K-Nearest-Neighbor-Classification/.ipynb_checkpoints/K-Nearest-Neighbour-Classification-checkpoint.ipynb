{
 "cells": [
  {
   "cell_type": "code",
   "execution_count": 30,
   "id": "a90209df",
   "metadata": {},
   "outputs": [
    {
     "name": "stdout",
     "output_type": "stream",
     "text": [
      "The score of neighbors=3 is 0.9907\n",
      "              precision    recall  f1-score   support\n",
      "\n",
      "           0       1.00      1.00      1.00        58\n",
      "           1       1.00      1.00      1.00        49\n",
      "           2       1.00      1.00      1.00        47\n",
      "           3       1.00      0.95      0.98        63\n",
      "           4       1.00      1.00      1.00        67\n",
      "           5       1.00      0.96      0.98        57\n",
      "           6       0.98      1.00      0.99        55\n",
      "           7       0.96      1.00      0.98        50\n",
      "           8       1.00      1.00      1.00        45\n",
      "           9       0.96      1.00      0.98        49\n",
      "\n",
      "    accuracy                           0.99       540\n",
      "   macro avg       0.99      0.99      0.99       540\n",
      "weighted avg       0.99      0.99      0.99       540\n",
      "\n"
     ]
    },
    {
     "data": {
      "text/plain": [
       "<Axes: >"
      ]
     },
     "execution_count": 30,
     "metadata": {},
     "output_type": "execute_result"
    },
    {
     "data": {
      "image/png": "[encoded data removed]",
      "text/plain": [
       "<Figure size 640x480 with 2 Axes>"
      ]
     },
     "metadata": {},
     "output_type": "display_data"
    }
   ],
   "source": [
    "import numpy as np\n",
    "import pandas as pd\n",
    "import seaborn as sns\n",
    "import matplotlib.pyplot as plt\n",
    "import warnings\n",
    "warnings.filterwarnings(\"ignore\")\n",
    "\n",
    "from sklearn.datasets import load_digits\n",
    "\n",
    "digits = load_digits()\n",
    "\n",
    "df = pd.DataFrame(digits.data,columns = digits.feature_names)\n",
    "df[\"target\"] = digits.target\n",
    "df[\"target_name\"] = df[\"target\"].apply(lambda x:digits.target_names[x])\n",
    "\n",
    "x = df.drop(columns = [\"target_name\",\"target\"])\n",
    "y = df[\"target\"]\n",
    "from sklearn.model_selection import train_test_split\n",
    "x_train,x_test,y_train,y_test = train_test_split(x,y,test_size = 0.3,\n",
    "                                                 random_state = 2023)\n",
    "\n",
    "from sklearn.neighbors import KNeighborsClassifier\n",
    "knn = KNeighborsClassifier(n_neighbors = 3)\n",
    "knn.fit(x_train,y_train)\n",
    "knn_3_score = knn.score(x_test,y_test)\n",
    "print(f\"The score of neighbors=3 is {round(knn_3_score,4)}\")\n",
    "\n",
    "y_pred = knn.predict(x_test)\n",
    "\n",
    "from sklearn.metrics import classification_report\n",
    "print(classification_report(y_test,y_pred))\n",
    "\n",
    "from sklearn.metrics import confusion_matrix\n",
    "\n",
    "cm = confusion_matrix(y_test,y_pred)\n",
    "sns.heatmap(cm,annot = True)"
   ]
  },
  {
   "cell_type": "code",
   "execution_count": 35,
   "id": "9073c6f9",
   "metadata": {},
   "outputs": [
    {
     "data": {
      "text/plain": [
       "array([0.60185185, 0.97222222, 0.53703704, 0.0462963 , 0.37962963])"
      ]
     },
     "execution_count": 35,
     "metadata": {},
     "output_type": "execute_result"
    }
   ],
   "source": [
    "# hyper-parameter tuning\n",
    "# use K-Fold Cross Validation\n",
    "\n",
    "from sklearn.model_selection import KFold\n",
    "from sklearn.model_selection import cross_val_score\n",
    "kf = KFold(n_splits = 5,random_state = 2023,shuffle = True)\n",
    "cross_val_score(KNeighborsClassifier(n_neighbors = 3),x_test,y_test,\n",
    "                cv = kf,scoring = \"neg_mean_squared_error\")*(-1)"
   ]
  },
  {
   "cell_type": "code",
   "execution_count": 41,
   "id": "3d1ee71f",
   "metadata": {},
   "outputs": [
    {
     "name": "stdout",
     "output_type": "stream",
     "text": [
      "The best score is 0.9833\n",
      "The best parameters are {'n_neighbors': 1}\n"
     ]
    },
    {
     "data": {
      "text/html": [
       "<div>\n",
       "<style scoped>\n",
       "    .dataframe tbody tr th:only-of-type {\n",
       "        vertical-align: middle;\n",
       "    }\n",
       "\n",
       "    .dataframe tbody tr th {\n",
       "        vertical-align: top;\n",
       "    }\n",
       "\n",
       "    .dataframe thead th {\n",
       "        text-align: right;\n",
       "    }\n",
       "</style>\n",
       "<table border=\"1\" class=\"dataframe\">\n",
       "  <thead>\n",
       "    <tr style=\"text-align: right;\">\n",
       "      <th></th>\n",
       "      <th>mean_test_score</th>\n",
       "      <th>std_test_score</th>\n",
       "      <th>rank_test_score</th>\n",
       "    </tr>\n",
       "  </thead>\n",
       "  <tbody>\n",
       "    <tr>\n",
       "      <th>0</th>\n",
       "      <td>0.983333</td>\n",
       "      <td>0.009072</td>\n",
       "      <td>1</td>\n",
       "    </tr>\n",
       "    <tr>\n",
       "      <th>1</th>\n",
       "      <td>0.966667</td>\n",
       "      <td>0.009443</td>\n",
       "      <td>3</td>\n",
       "    </tr>\n",
       "    <tr>\n",
       "      <th>2</th>\n",
       "      <td>0.977778</td>\n",
       "      <td>0.013858</td>\n",
       "      <td>2</td>\n",
       "    </tr>\n",
       "    <tr>\n",
       "      <th>3</th>\n",
       "      <td>0.966667</td>\n",
       "      <td>0.018144</td>\n",
       "      <td>4</td>\n",
       "    </tr>\n",
       "  </tbody>\n",
       "</table>\n",
       "</div>"
      ],
      "text/plain": [
       "   mean_test_score  std_test_score  rank_test_score\n",
       "0         0.983333        0.009072                1\n",
       "1         0.966667        0.009443                3\n",
       "2         0.977778        0.013858                2\n",
       "3         0.966667        0.018144                4"
      ]
     },
     "execution_count": 41,
     "metadata": {},
     "output_type": "execute_result"
    }
   ],
   "source": [
    "# hyper-parameter tuning\n",
    "# use Grid SearchCV\n",
    "\n",
    "from sklearn.model_selection import GridSearchCV\n",
    "clf = GridSearchCV(KNeighborsClassifier(),\n",
    "                   {\"n_neighbors\":[1,2,3,4]},\n",
    "                   cv = 5,return_train_score = False)\n",
    "clf.fit(x_test,y_test)\n",
    "print(f\"The best score is {round(clf.best_score_,4)}\")\n",
    "print(f\"The best parameters are {clf.best_params_}\")    \n",
    "\n",
    "pd.DataFrame(clf.cv_results_)[[\"mean_test_score\",\"std_test_score\",\"rank_test_score\"]]"
   ]
  },
  {
   "cell_type": "code",
   "execution_count": null,
   "id": "79f2c1dc",
   "metadata": {},
   "outputs": [],
   "source": []
  }
 ],
 "metadata": {
  "kernelspec": {
   "display_name": "Python 3 (ipykernel)",
   "language": "python",
   "name": "python3"
  },
  "language_info": {
   "codemirror_mode": {
    "name": "ipython",
    "version": 3
   },
   "file_extension": ".py",
   "mimetype": "text/x-python",
   "name": "python",
   "nbconvert_exporter": "python",
   "pygments_lexer": "ipython3",
   "version": "3.11.3"
  }
 },
 "nbformat": 4,
 "nbformat_minor": 5
}
