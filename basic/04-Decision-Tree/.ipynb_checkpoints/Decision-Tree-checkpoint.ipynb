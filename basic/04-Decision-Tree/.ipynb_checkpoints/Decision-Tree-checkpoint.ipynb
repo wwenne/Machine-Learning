{
 "cells": [
  {
   "cell_type": "code",
   "execution_count": 2,
   "id": "95eb46fe",
   "metadata": {},
   "outputs": [
    {
     "name": "stdout",
     "output_type": "stream",
     "text": [
      "[0 0 1 0 0 0 0 0 0 1 1 0 0 0 1 1 0 0 0 1 1 0 1 1 0 1 0 1 0 0 0 0 1 1 1 1 1\n",
      " 1 0 0 0 1 0 0 0 0 0 0 0 1 1 1 1 0 1 0 1 0 1 1 0 0 1 1 1 0 0 0 0 1 0 1 0 1\n",
      " 0 1 0 0 1 0 0 0 0 0 1 0 0 0 0 1 0 0 1 0 1 0 0 0 1 0 0 0 0 1 1 0 0 1 1 0 0\n",
      " 0 0 1 1 0 0 0 0 0 1 0 0 0 0 1 0 0 1 0 0 0 0 1 0 0 0 0 0 1 1 1 0 1 1 0 1 0\n",
      " 1 0 1 1 1 0 1 0 0 0 0 0 0 1 1 0 0 1 0 0 1 0 1 0 1 0 1 1 0 0 0]\n",
      "0.8101\n"
     ]
    }
   ],
   "source": [
    "import pandas as pd\n",
    "from sklearn import tree\n",
    "import warnings\n",
    "warnings.filterwarnings(\"ignore\")\n",
    "\n",
    "df = pd.read_csv(\"titanic.csv\")\n",
    "\n",
    "from sklearn.preprocessing import LabelEncoder\n",
    "from sklearn.model_selection import train_test_split\n",
    "le = LabelEncoder()\n",
    "df[\"sex_int\"] = le.fit_transform(df[\"Sex\"])\n",
    "x = df[[\"Pclass\",\"Age\",\"SibSp\",\"Fare\",\"sex_int\"]].fillna(0)\n",
    "y = df[\"Survived\"]\n",
    "x_train,x_test,y_train,y_test = train_test_split(x,y,test_size = 0.2)\n",
    "model = tree.DecisionTreeClassifier()\n",
    "model.fit(x_train,y_train)\n",
    "y_hat = model.predict(x_test)\n",
    "print(y_hat)\n",
    "score = model.score(x_test,y_test)\n",
    "print(round(score,4))"
   ]
  },
  {
   "cell_type": "code",
   "execution_count": null,
   "id": "8892e966",
   "metadata": {},
   "outputs": [],
   "source": []
  }
 ],
 "metadata": {
  "kernelspec": {
   "display_name": "Python 3 (ipykernel)",
   "language": "python",
   "name": "python3"
  },
  "language_info": {
   "codemirror_mode": {
    "name": "ipython",
    "version": 3
   },
   "file_extension": ".py",
   "mimetype": "text/x-python",
   "name": "python",
   "nbconvert_exporter": "python",
   "pygments_lexer": "ipython3",
   "version": "3.11.3"
  }
 },
 "nbformat": 4,
 "nbformat_minor": 5
}
