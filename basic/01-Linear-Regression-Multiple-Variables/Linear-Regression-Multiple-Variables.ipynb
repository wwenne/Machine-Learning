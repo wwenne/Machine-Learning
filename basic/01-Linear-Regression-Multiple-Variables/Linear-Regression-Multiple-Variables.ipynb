{
 "cells": [
  {
   "cell_type": "code",
   "execution_count": 8,
   "id": "dcc516ae",
   "metadata": {},
   "outputs": [
    {
     "name": "stdout",
     "output_type": "stream",
     "text": [
      "When the experience is 4,test score is 9 and interview score is 6, the salary is 53205.97$.\n",
      "When the experience is 4,test score is 9 and interview score is 6, the salary is 92002.18$.\n"
     ]
    }
   ],
   "source": [
    "import pandas as pd\n",
    "from sklearn import linear_model\n",
    "import warnings\n",
    "warnings.filterwarnings(\"ignore\")\n",
    "\n",
    "# !pip install word2number\n",
    "from word2number import w2n\n",
    "# w2n.word_to_num(\"one\")\n",
    "\n",
    "df = pd.read_csv(\"hiring.csv\")\n",
    "# fill the N/A value\n",
    "df[\"experience\"] = df[\"experience\"].fillna(\"zero\")\n",
    "df[\"experience\"] = df[\"experience\"].apply(lambda x:w2n.word_to_num(x))\n",
    "import math\n",
    "m = math.floor(df[\"test_score(out of 10)\"].median())\n",
    "df[\"test_score(out of 10)\"] = df[\"test_score(out of 10)\"].fillna(m)\n",
    "\n",
    "# apply Linear Regression\n",
    "model = linear_model.LinearRegression()\n",
    "model.fit(df[[\"experience\",\"test_score(out of 10)\",\"interview_score(out of 10)\"]],df[\"salary($)\"])\n",
    "# get coefficient\n",
    "slope = model.coef_\n",
    "intercept = model.intercept_\n",
    "\n",
    "# use value to predict\n",
    "y_1 = model.predict([[2,9,6]])\n",
    "y_2 = model.predict([[12,10,10]])\n",
    "print(f\"When the experience is 4,test score is 9 and interview score is 6, the salary is {round(y_1[0],2)}$.\")\n",
    "print(f\"When the experience is 4,test score is 9 and interview score is 6, the salary is {round(y_2[0],2)}$.\")"
   ]
  },
  {
   "cell_type": "code",
   "execution_count": null,
   "id": "bdddc7e3",
   "metadata": {},
   "outputs": [],
   "source": []
  }
 ],
 "metadata": {
  "kernelspec": {
   "display_name": "Python 3 (ipykernel)",
   "language": "python",
   "name": "python3"
  },
  "language_info": {
   "codemirror_mode": {
    "name": "ipython",
    "version": 3
   },
   "file_extension": ".py",
   "mimetype": "text/x-python",
   "name": "python",
   "nbconvert_exporter": "python",
   "pygments_lexer": "ipython3",
   "version": "3.11.3"
  }
 },
 "nbformat": 4,
 "nbformat_minor": 5
}
